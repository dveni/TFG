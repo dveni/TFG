{
 "cells": [
  {
   "cell_type": "code",
   "execution_count": null,
   "metadata": {},
   "outputs": [],
   "source": [
    "import print_n_log\n",
    "IS_MASTER = True # Remember this? We need to set this to True in MASTER Notebook so that it does not use the default parameters in processing notebook.\n",
    "DATA_DIR = './data/temp/'\n",
    "\n",
    "# targetFiles = 'HealthyFood'\n",
    "# targetFiles = 'UnhealthyFood'\n",
    "# targetFiles = 'GenericTweets'\n",
    "targetFiles = 'smallData'\n",
    "\n",
    "RAW_FILE = f'./data/CSVFiles/{targetFiles}-DataFrame.csv' # use \"small data\" here\n",
    "PROCESSED_FILE = f'{DATA_DIR}processed.pkl' # always use pickle for fast I/O!\n",
    "\n",
    "#OTHER_PREPROCESS_PARAMETER = ... # like batch size, sliding\n",
    "# Let's save the original print method in ori_print\n",
    "#---------------------------------------------------\n",
    "ori_print = print\n",
    "# Now we set the print method to be modified print\n",
    "#--------------------------------------------------\n",
    "print = print_n_log.run('preproc', './logs/preprocess.log', 'DEBUG')"
   ]
  },
  {
   "cell_type": "markdown",
   "metadata": {},
   "source": [
    "Convert raw JSON files from twitter to csv files. Generates two files in data/CSVFiles: \n",
    "* A dataframe with tweet and user info\n",
    "* dataframe with location info of the tweets"
   ]
  },
  {
   "cell_type": "code",
   "execution_count": null,
   "metadata": {},
   "outputs": [],
   "source": [
    "%run 'JSON-to-Dataframes.ipynb'"
   ]
  },
  {
   "cell_type": "markdown",
   "metadata": {},
   "source": [
    "Download pics from tweets and save them to data/images/"
   ]
  },
  {
   "cell_type": "code",
   "execution_count": null,
   "metadata": {},
   "outputs": [],
   "source": [
    "%run 'DownloadTweetsPics.ipynb'"
   ]
  },
  {
   "cell_type": "code",
   "execution_count": 3,
   "metadata": {},
   "outputs": [
    {
     "name": "stderr",
     "output_type": "stream",
     "text": [
      "2020-12-22 13:22:00,311 - preproc - INFO - This is the preprocessing notebook being called from Master Notebook\n",
      "2020-12-22 13:22:00,311 - preproc - INFO - This is the preprocessing notebook being called from Master Notebook\n"
     ]
    }
   ],
   "source": [
    "# Now, we run the Preprocessing Notebook using the %run magic\n",
    "#-------------------------------------------------------------\n",
    "%run 'Preprocess.ipynb'\n",
    "# Finally, after running notebook, we set the print method back to the original print method.\n",
    "#-----------------------------------------------------\n",
    "print = ori_print"
   ]
  },
  {
   "cell_type": "code",
   "execution_count": null,
   "metadata": {},
   "outputs": [],
   "source": []
  }
 ],
 "metadata": {
  "kernelspec": {
   "display_name": "Python 3",
   "language": "python",
   "name": "python3"
  },
  "language_info": {
   "codemirror_mode": {
    "name": "ipython",
    "version": 3
   },
   "file_extension": ".py",
   "mimetype": "text/x-python",
   "name": "python",
   "nbconvert_exporter": "python",
   "pygments_lexer": "ipython3",
   "version": "3.6.5"
  }
 },
 "nbformat": 4,
 "nbformat_minor": 2
}
