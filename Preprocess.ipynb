{
 "cells": [
  {
   "cell_type": "code",
   "execution_count": 4,
   "metadata": {},
   "outputs": [],
   "source": [
    "# check if IS_MASTER exists, this variable will only exist if it's being called by MASTER notebook.\n",
    "# if it does not exist, set it to False\n",
    "try: IS_MASTER\n",
    "except: IS_MASTER = False\n",
    "# The code below will only run if it's NOT being called from MASTER notebook\n",
    "if not IS_MASTER:\n",
    "    # targetFiles = 'HealthyFood'\n",
    "    # targetFiles = 'UnhealthyFood'\n",
    "    targetFiles = 'smallData'\n",
    "    DATA_DIR = './data/temp/' # \n",
    "    RAW_FILE = f'./data/CSVFiles/{targetFiles}-DataFrame.csv' # use the target file name here\n",
    "    PROCESSED_FILE = f'{DATA_DIR}processed.pkl' # always use pickle for fast I/O!\n",
    "    \n",
    "\n",
    "generic = 'GenericTweets'"
   ]
  },
  {
   "cell_type": "code",
   "execution_count": 5,
   "metadata": {},
   "outputs": [],
   "source": [
    "#Libraries used in the notebook\n",
    "import csv\n",
    "import json\n",
    "import numpy as np\n",
    "import pandas as pd\n",
    "import glob\n",
    "import os\n",
    "import ntpath\n",
    "import pickle\n",
    "import shutil\n",
    "import matplotlib.pyplot as plt\n",
    "import sklearn\n"
   ]
  },
  {
   "cell_type": "code",
   "execution_count": 6,
   "metadata": {},
   "outputs": [
    {
     "name": "stdout",
     "output_type": "stream",
     "text": [
      "This is the preprocessing notebook being called from Master Notebook\n"
     ]
    }
   ],
   "source": [
    "print(\"This is the preprocessing notebook being called from Master Notebook\")\n"
   ]
  },
  {
   "cell_type": "code",
   "execution_count": 15,
   "metadata": {},
   "outputs": [],
   "source": [
    "chunksize = 10000\n",
    "\n",
    "tfr = pd.read_csv(RAW_FILE, usecols=['id', 'text', 'full_text','text2Proc'], index_col=None, header=0, lineterminator='\\n',chunksize=chunksize, iterator=True)\n",
    "df_fastfood = pd.concat(tfr, ignore_index=True)\n",
    "tfr = pd.read_csv(f'./data/CSVFiles/GenericTweets-Dataframe.csv', usecols=['id', 'text', 'full_text','text2Proc'], index_col=None, header=0, lineterminator='\\n',chunksize=chunksize, iterator=True)\n",
    "df_generic = pd.concat(tfr, ignore_index=True)"
   ]
  },
  {
   "cell_type": "code",
   "execution_count": 16,
   "metadata": {},
   "outputs": [
    {
     "data": {
      "text/html": [
       "<div>\n",
       "<style scoped>\n",
       "    .dataframe tbody tr th:only-of-type {\n",
       "        vertical-align: middle;\n",
       "    }\n",
       "\n",
       "    .dataframe tbody tr th {\n",
       "        vertical-align: top;\n",
       "    }\n",
       "\n",
       "    .dataframe thead th {\n",
       "        text-align: right;\n",
       "    }\n",
       "</style>\n",
       "<table border=\"1\" class=\"dataframe\">\n",
       "  <thead>\n",
       "    <tr style=\"text-align: right;\">\n",
       "      <th></th>\n",
       "      <th>id</th>\n",
       "      <th>text</th>\n",
       "      <th>full_text</th>\n",
       "      <th>text2Proc</th>\n",
       "      <th>target</th>\n",
       "    </tr>\n",
       "  </thead>\n",
       "  <tbody>\n",
       "    <tr>\n",
       "      <th>1700</th>\n",
       "      <td>1.194622e+18</td>\n",
       "      <td>⚡‍ CHOLLAZO  #Zapatos\\n Zapatillas para Hombre...</td>\n",
       "      <td>NaN</td>\n",
       "      <td>⚡‍ CHOLLAZO  #Zapatos\\n Zapatillas para Hombre...</td>\n",
       "      <td>0</td>\n",
       "    </tr>\n",
       "    <tr>\n",
       "      <th>11362</th>\n",
       "      <td>1.194680e+18</td>\n",
       "      <td>Sucedió lo que todos esperábamos... Inició la ...</td>\n",
       "      <td>Sucedió lo que todos esperábamos... Inició la ...</td>\n",
       "      <td>Sucedió lo que todos esperábamos... Inició la ...</td>\n",
       "      <td>0</td>\n",
       "    </tr>\n",
       "    <tr>\n",
       "      <th>7160</th>\n",
       "      <td>1.199167e+18</td>\n",
       "      <td>@Mar_Masshiell @marianapcco Need galletas de a...</td>\n",
       "      <td>NaN</td>\n",
       "      <td>@Mar_Masshiell @marianapcco Need galletas de a...</td>\n",
       "      <td>1</td>\n",
       "    </tr>\n",
       "    <tr>\n",
       "      <th>13189</th>\n",
       "      <td>1.206024e+18</td>\n",
       "      <td>Y que no venga el rompepija de turno a joderme...</td>\n",
       "      <td>NaN</td>\n",
       "      <td>Y que no venga el rompepija de turno a joderme...</td>\n",
       "      <td>1</td>\n",
       "    </tr>\n",
       "    <tr>\n",
       "      <th>8133</th>\n",
       "      <td>1.194661e+18</td>\n",
       "      <td>Información inútil sobre mi:\\n\\nAltura: 1, 64 ...</td>\n",
       "      <td>Información inútil sobre mi:\\n\\nAltura: 1, 64 ...</td>\n",
       "      <td>Información inútil sobre mi:\\n\\nAltura: 1, 64 ...</td>\n",
       "      <td>0</td>\n",
       "    </tr>\n",
       "    <tr>\n",
       "      <th>12765</th>\n",
       "      <td>1.194689e+18</td>\n",
       "      <td>Al no incluir esta pintura el tanque iba a red...</td>\n",
       "      <td>Al no incluir esta pintura el tanque iba a red...</td>\n",
       "      <td>Al no incluir esta pintura el tanque iba a red...</td>\n",
       "      <td>0</td>\n",
       "    </tr>\n",
       "    <tr>\n",
       "      <th>1093</th>\n",
       "      <td>1.193210e+18</td>\n",
       "      <td>bien sellado.\\nahora en el horno con vino blan...</td>\n",
       "      <td>NaN</td>\n",
       "      <td>bien sellado.\\nahora en el horno con vino blan...</td>\n",
       "      <td>1</td>\n",
       "    </tr>\n",
       "    <tr>\n",
       "      <th>4068</th>\n",
       "      <td>1.194639e+18</td>\n",
       "      <td>@luisbremer @Coto_Ar Luis  hacete un lugar  lo...</td>\n",
       "      <td>NaN</td>\n",
       "      <td>@luisbremer @Coto_Ar Luis  hacete un lugar  lo...</td>\n",
       "      <td>0</td>\n",
       "    </tr>\n",
       "    <tr>\n",
       "      <th>9607</th>\n",
       "      <td>1.194669e+18</td>\n",
       "      <td>@pauroqa Veeeñ. Te esperamos con aguacate, gal...</td>\n",
       "      <td>NaN</td>\n",
       "      <td>@pauroqa Veeeñ. Te esperamos con aguacate, gal...</td>\n",
       "      <td>0</td>\n",
       "    </tr>\n",
       "    <tr>\n",
       "      <th>6440</th>\n",
       "      <td>1.194653e+18</td>\n",
       "      <td>Daniela Martinez en la uva JAJAJAJAJA https://...</td>\n",
       "      <td>NaN</td>\n",
       "      <td>Daniela Martinez en la uva JAJAJAJAJA https://...</td>\n",
       "      <td>0</td>\n",
       "    </tr>\n",
       "  </tbody>\n",
       "</table>\n",
       "</div>"
      ],
      "text/plain": [
       "                 id                                               text  \\\n",
       "1700   1.194622e+18  ⚡‍ CHOLLAZO  #Zapatos\\n Zapatillas para Hombre...   \n",
       "11362  1.194680e+18  Sucedió lo que todos esperábamos... Inició la ...   \n",
       "7160   1.199167e+18  @Mar_Masshiell @marianapcco Need galletas de a...   \n",
       "13189  1.206024e+18  Y que no venga el rompepija de turno a joderme...   \n",
       "8133   1.194661e+18  Información inútil sobre mi:\\n\\nAltura: 1, 64 ...   \n",
       "12765  1.194689e+18  Al no incluir esta pintura el tanque iba a red...   \n",
       "1093   1.193210e+18  bien sellado.\\nahora en el horno con vino blan...   \n",
       "4068   1.194639e+18  @luisbremer @Coto_Ar Luis  hacete un lugar  lo...   \n",
       "9607   1.194669e+18  @pauroqa Veeeñ. Te esperamos con aguacate, gal...   \n",
       "6440   1.194653e+18  Daniela Martinez en la uva JAJAJAJAJA https://...   \n",
       "\n",
       "                                               full_text  \\\n",
       "1700                                                 NaN   \n",
       "11362  Sucedió lo que todos esperábamos... Inició la ...   \n",
       "7160                                                 NaN   \n",
       "13189                                                NaN   \n",
       "8133   Información inútil sobre mi:\\n\\nAltura: 1, 64 ...   \n",
       "12765  Al no incluir esta pintura el tanque iba a red...   \n",
       "1093                                                 NaN   \n",
       "4068                                                 NaN   \n",
       "9607                                                 NaN   \n",
       "6440                                                 NaN   \n",
       "\n",
       "                                               text2Proc  target  \n",
       "1700   ⚡‍ CHOLLAZO  #Zapatos\\n Zapatillas para Hombre...       0  \n",
       "11362  Sucedió lo que todos esperábamos... Inició la ...       0  \n",
       "7160   @Mar_Masshiell @marianapcco Need galletas de a...       1  \n",
       "13189  Y que no venga el rompepija de turno a joderme...       1  \n",
       "8133   Información inútil sobre mi:\\n\\nAltura: 1, 64 ...       0  \n",
       "12765  Al no incluir esta pintura el tanque iba a red...       0  \n",
       "1093   bien sellado.\\nahora en el horno con vino blan...       1  \n",
       "4068   @luisbremer @Coto_Ar Luis  hacete un lugar  lo...       0  \n",
       "9607   @pauroqa Veeeñ. Te esperamos con aguacate, gal...       0  \n",
       "6440   Daniela Martinez en la uva JAJAJAJAJA https://...       0  "
      ]
     },
     "execution_count": 16,
     "metadata": {},
     "output_type": "execute_result"
    }
   ],
   "source": [
    "# df_healthy['target'] = 0\n",
    "df_generic['target'] = 0\n",
    "df_fastfood['target'] = 1\n",
    "df_fastfood = df_fastfood.sample(n=500) #Modify number of samples depending on datasets size. We sample in order to have the \n",
    "df_generic = df_generic.sample(n=500)   # same number of samples of each class\n",
    "df = pd.concat([df_generic, df_fastfood])\n",
    "df.sample(n=10)"
   ]
  },
  {
   "cell_type": "code",
   "execution_count": 17,
   "metadata": {
    "scrolled": true
   },
   "outputs": [
    {
     "data": {
      "text/plain": [
       "target\n",
       "0    500\n",
       "1    500\n",
       "Name: text2Proc, dtype: int64"
      ]
     },
     "execution_count": 17,
     "metadata": {},
     "output_type": "execute_result"
    }
   ],
   "source": [
    "df.groupby('target').count()['text2Proc'] "
   ]
  },
  {
   "cell_type": "code",
   "execution_count": 18,
   "metadata": {
    "scrolled": true
   },
   "outputs": [
    {
     "name": "stdout",
     "output_type": "stream",
     "text": [
      "<class 'pandas.core.frame.DataFrame'>\n",
      "Int64Index: 1000 entries, 14286 to 3523\n",
      "Data columns (total 5 columns):\n",
      "id           1000 non-null float64\n",
      "text         1000 non-null object\n",
      "full_text    276 non-null object\n",
      "text2Proc    1000 non-null object\n",
      "target       1000 non-null int64\n",
      "dtypes: float64(1), int64(1), object(3)\n",
      "memory usage: 46.9+ KB\n"
     ]
    }
   ],
   "source": [
    "df.info() "
   ]
  },
  {
   "cell_type": "code",
   "execution_count": 19,
   "metadata": {},
   "outputs": [],
   "source": [
    "df.to_pickle(PROCESSED_FILE)"
   ]
  },
  {
   "cell_type": "code",
   "execution_count": null,
   "metadata": {},
   "outputs": [],
   "source": []
  }
 ],
 "metadata": {
  "kernelspec": {
   "display_name": "Python 3",
   "language": "python",
   "name": "python3"
  },
  "language_info": {
   "codemirror_mode": {
    "name": "ipython",
    "version": 3
   },
   "file_extension": ".py",
   "mimetype": "text/x-python",
   "name": "python",
   "nbconvert_exporter": "python",
   "pygments_lexer": "ipython3",
   "version": "3.6.5"
  }
 },
 "nbformat": 4,
 "nbformat_minor": 2
}
