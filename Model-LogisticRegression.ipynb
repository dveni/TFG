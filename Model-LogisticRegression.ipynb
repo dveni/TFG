{
 "cells": [
  {
   "cell_type": "code",
   "execution_count": 4,
   "metadata": {},
   "outputs": [],
   "source": [
    "# check if IS_MASTER exists, this variable will only exist if it's being called by MASTER notebook.\n",
    "# if it does not exist, set it to False\n",
    "try: IS_MASTER\n",
    "except: IS_MASTER = False\n",
    "# The code below will only run if it's NOT being called from MASTER notebook\n",
    "if not IS_MASTER:\n",
    "    DATA_DIR = './data/temp/'\n",
    "    EXP_DIR = './exp/temp/'\n",
    "    PROCESSED_FILE = f'{DATA_DIR}processed.pkl'\n",
    "    MODEL_FILE = f'{EXP_DIR}model.pkl'\n",
    "    PREDICTION_FILE = f'{EXP_DIR}ypred.pkl'\n",
    "    OTHER_MODEL_PARAMETERS = ... # like N_ESTIMATOR, GAMMA, etc"
   ]
  },
  {
   "cell_type": "code",
   "execution_count": 5,
   "metadata": {},
   "outputs": [
    {
     "name": "stderr",
     "output_type": "stream",
     "text": [
      "ERROR:root:File `'plot_learning_curve.py'` not found.\n"
     ]
    }
   ],
   "source": [
    "import numpy as np\n",
    "import pandas as pd\n",
    "from pandas import Series, DataFrame\n",
    "import matplotlib.pyplot as plt\n",
    "import sklearn\n",
    "%matplotlib inline\n",
    "%run plot_learning_curve\n",
    "import pickle\n"
   ]
  },
  {
   "cell_type": "code",
   "execution_count": 6,
   "metadata": {},
   "outputs": [
    {
     "data": {
      "text/html": [
       "<div>\n",
       "<style scoped>\n",
       "    .dataframe tbody tr th:only-of-type {\n",
       "        vertical-align: middle;\n",
       "    }\n",
       "\n",
       "    .dataframe tbody tr th {\n",
       "        vertical-align: top;\n",
       "    }\n",
       "\n",
       "    .dataframe thead th {\n",
       "        text-align: right;\n",
       "    }\n",
       "</style>\n",
       "<table border=\"1\" class=\"dataframe\">\n",
       "  <thead>\n",
       "    <tr style=\"text-align: right;\">\n",
       "      <th></th>\n",
       "      <th>id</th>\n",
       "      <th>text</th>\n",
       "      <th>full_text</th>\n",
       "      <th>text2Proc</th>\n",
       "      <th>target</th>\n",
       "    </tr>\n",
       "  </thead>\n",
       "  <tbody>\n",
       "    <tr>\n",
       "      <th>14286</th>\n",
       "      <td>1.194698e+18</td>\n",
       "      <td>Cómo consumir un buen vermut (Olvídate del hie...</td>\n",
       "      <td>NaN</td>\n",
       "      <td>Cómo consumir un buen vermut (Olvídate del hie...</td>\n",
       "      <td>0</td>\n",
       "    </tr>\n",
       "    <tr>\n",
       "      <th>8480</th>\n",
       "      <td>1.194663e+18</td>\n",
       "      <td>Lo cierto que si Albert Rivera era la veleta n...</td>\n",
       "      <td>Lo cierto que si Albert Rivera era la veleta n...</td>\n",
       "      <td>Lo cierto que si Albert Rivera era la veleta n...</td>\n",
       "      <td>0</td>\n",
       "    </tr>\n",
       "    <tr>\n",
       "      <th>4515</th>\n",
       "      <td>1.194641e+18</td>\n",
       "      <td>Cuando mi madre me pone lentejas</td>\n",
       "      <td>NaN</td>\n",
       "      <td>Cuando mi madre me pone lentejas</td>\n",
       "      <td>0</td>\n",
       "    </tr>\n",
       "    <tr>\n",
       "      <th>233</th>\n",
       "      <td>1.194612e+18</td>\n",
       "      <td>@Soumastre Jajajjaa palabras de un chico reali...</td>\n",
       "      <td>NaN</td>\n",
       "      <td>@Soumastre Jajajjaa palabras de un chico reali...</td>\n",
       "      <td>0</td>\n",
       "    </tr>\n",
       "    <tr>\n",
       "      <th>10952</th>\n",
       "      <td>1.194677e+18</td>\n",
       "      <td>Mango se viste de etiqueta para dar la bienven...</td>\n",
       "      <td>NaN</td>\n",
       "      <td>Mango se viste de etiqueta para dar la bienven...</td>\n",
       "      <td>0</td>\n",
       "    </tr>\n",
       "  </tbody>\n",
       "</table>\n",
       "</div>"
      ],
      "text/plain": [
       "                 id                                               text  \\\n",
       "14286  1.194698e+18  Cómo consumir un buen vermut (Olvídate del hie...   \n",
       "8480   1.194663e+18  Lo cierto que si Albert Rivera era la veleta n...   \n",
       "4515   1.194641e+18                   Cuando mi madre me pone lentejas   \n",
       "233    1.194612e+18  @Soumastre Jajajjaa palabras de un chico reali...   \n",
       "10952  1.194677e+18  Mango se viste de etiqueta para dar la bienven...   \n",
       "\n",
       "                                               full_text  \\\n",
       "14286                                                NaN   \n",
       "8480   Lo cierto que si Albert Rivera era la veleta n...   \n",
       "4515                                                 NaN   \n",
       "233                                                  NaN   \n",
       "10952                                                NaN   \n",
       "\n",
       "                                               text2Proc  target  \n",
       "14286  Cómo consumir un buen vermut (Olvídate del hie...       0  \n",
       "8480   Lo cierto que si Albert Rivera era la veleta n...       0  \n",
       "4515                    Cuando mi madre me pone lentejas       0  \n",
       "233    @Soumastre Jajajjaa palabras de un chico reali...       0  \n",
       "10952  Mango se viste de etiqueta para dar la bienven...       0  "
      ]
     },
     "execution_count": 6,
     "metadata": {},
     "output_type": "execute_result"
    }
   ],
   "source": [
    "df = pd.read_pickle(PROCESSED_FILE)\n",
    "df.head()"
   ]
  },
  {
   "cell_type": "markdown",
   "metadata": {},
   "source": [
    "Classification\n",
    "==============\n",
    " Finally, we are going to create a model able to decide if a tweet talks about an incident It's important to have in mind that the entry of our classifier is a set of documents (or tweets), so to use text characteristics and the other columns from the DataFrame it's necesary to implement a series of tranformers to include the features"
   ]
  },
  {
   "cell_type": "code",
   "execution_count": 12,
   "metadata": {},
   "outputs": [],
   "source": [
    "# Define X and Y\n",
    "X = df['text2Proc'].values\n",
    "y = df['target'].values"
   ]
  },
  {
   "cell_type": "markdown",
   "metadata": {},
   "source": [
    "Lexical Features\n",
    "================="
   ]
  },
  {
   "cell_type": "code",
   "execution_count": 13,
   "metadata": {},
   "outputs": [],
   "source": [
    "# Sample of statistics using nltk\n",
    "# Another option is defining a function and pass it as a parameter to FunctionTransformer\n",
    "\n",
    "from sklearn.base import BaseEstimator, TransformerMixin\n",
    "from nltk.tokenize import sent_tokenize, word_tokenize\n",
    "\n",
    "class LexicalStats (BaseEstimator, TransformerMixin):\n",
    "    \"\"\"Extract lexical features from each document\"\"\"\n",
    "    \n",
    "    def number_sentences(self, doc):\n",
    "        sentences = sent_tokenize(doc, language='spanish')\n",
    "        return len(sentences)\n",
    "\n",
    "    def fit(self, x, y=None):\n",
    "        return self\n",
    "\n",
    "    def transform(self, docs):\n",
    "        return [{'length': len(doc),\n",
    "                 'num_sentences': self.number_sentences(doc)}\n",
    "                for doc in docs]\n"
   ]
  },
  {
   "cell_type": "code",
   "execution_count": 14,
   "metadata": {},
   "outputs": [],
   "source": [
    "from sklearn.base import BaseEstimator, TransformerMixin\n",
    "from nltk.stem import PorterStemmer\n",
    "from nltk import word_tokenize\n",
    "from nltk.tokenize import TweetTokenizer\n",
    "from nltk.corpus import stopwords\n",
    "import re\n",
    "import string\n",
    "\n",
    "def custom_tokenizer(words):\n",
    "    \"\"\"Preprocessing tokens as seen in the lexical notebook\"\"\"\n",
    "\n",
    "    urls = re.compile(r'.http[s]?://(?:[a-zA-Z]|[0-9]|[$-_@.&+]|[!*\\(\\),]|(?:%[0-9a-fA-F][0-9a-fA-F]))+')\n",
    "    ht = re.compile(r'http.')\n",
    "    bar = re.compile(r'//*')\n",
    "    pr = [\"rt\",\"@\",\"http\",\"https\",\"'s\",'...', 'english', 'translation','):', '. .', '..']\n",
    "    #tknzr = TweetTokenizer(strip_handles=True, reduce_len=True)\n",
    "    tknzr = TweetTokenizer(strip_handles=False, reduce_len=True)\n",
    "    #tokens = word_tokenize(words.lower())\n",
    "    tokens = tknzr.tokenize(words.lower())\n",
    "    porter = PorterStemmer()\n",
    "    lemmas = [porter.stem(t) for t in tokens]\n",
    "    # Clean stop-words\n",
    "    stoplist = stopwords.words('spanish')\n",
    "    lemmas_clean = [w for w in lemmas if w not in stoplist]\n",
    "    # Clean punctuation\n",
    "    punctuation = set(string.punctuation)\n",
    "    lemmas_punct = [w for w in lemmas_clean if  w not in punctuation]\n",
    "    # Clean emojis,urls,bars,etc\n",
    "    lemmas_clean = [w for w in lemmas_punct if not w.startswith('@') if w not in pr \n",
    "            if not bar.search(w) if not ht.search(w)\n",
    "            if not w.isdigit()]\n",
    "    \n",
    "    return lemmas_clean"
   ]
  },
  {
   "cell_type": "markdown",
   "metadata": {},
   "source": [
    "Feature Extraction Pipelines\n",
    "===================="
   ]
  },
  {
   "cell_type": "code",
   "execution_count": 15,
   "metadata": {},
   "outputs": [],
   "source": [
    "from sklearn.pipeline import Pipeline, FeatureUnion\n",
    "from sklearn.feature_extraction.text import CountVectorizer, TfidfVectorizer, TfidfTransformer\n",
    "\n",
    "\n",
    "ngrams_featurizer = Pipeline([\n",
    "  ('count_vectorizer',  CountVectorizer(ngram_range = (1, 3), encoding = 'utf-8', \n",
    "                                        tokenizer=custom_tokenizer)),\n",
    "  ('tfidf_transformer', TfidfTransformer())\n",
    "])"
   ]
  },
  {
   "cell_type": "markdown",
   "metadata": {},
   "source": [
    "Feature Union Pipeline\n",
    "======"
   ]
  },
  {
   "cell_type": "code",
   "execution_count": 19,
   "metadata": {},
   "outputs": [],
   "source": [
    "from sklearn.naive_bayes import MultinomialNB\n",
    "from sklearn.model_selection import cross_val_score, KFold\n",
    "from sklearn.metrics import classification_report\n",
    "from sklearn.feature_extraction import DictVectorizer\n",
    "from sklearn.preprocessing import FunctionTransformer\n",
    "from sklearn.decomposition import NMF, LatentDirichletAllocation\n",
    "\n",
    "from sklearn.svm import SVC\n",
    "from sklearn.model_selection import GridSearchCV\n",
    "from sklearn.metrics import classification_report, accuracy_score, make_scorer\n",
    "\n",
    "def pipeline(clf):\n",
    "    return Pipeline([\n",
    "       ('features', FeatureUnion([\n",
    "                    ('lexical_stats', Pipeline([\n",
    "                                ('stats', LexicalStats()),\n",
    "                                ('vectors', DictVectorizer())\n",
    "                            ])),\n",
    "                    ('words', TfidfVectorizer(tokenizer=custom_tokenizer)),\n",
    "                    ('ngrams', ngrams_featurizer),\n",
    "                    # Topics of the Docs\n",
    "                    ('lda', Pipeline([ \n",
    "                                ('count', CountVectorizer(tokenizer=custom_tokenizer)),\n",
    "                                ('lda',  LatentDirichletAllocation(n_components=2, max_iter=5,\n",
    "                                                       learning_method='online', \n",
    "                                                       learning_offset=50.,\n",
    "                                                       random_state=0))\n",
    "                            ])),\n",
    "                ])),\n",
    "        # Machine Learning\n",
    "        ('clf', clf)  # classifier\n",
    "        #('clf', SVC(gamma= 3, kernel='linear', probability=True))\n",
    "\n",
    "    ])\n",
    "\n",
    "def classification_report_with_accuracy_score(y_true, y_pred):\n",
    "\n",
    "    print (classification_report(y_true, y_pred)) # print classification report\n",
    "    return accuracy_score(y_true, y_pred) # return accuracy score\n",
    "\n",
    "cv = KFold(n_splits=5, shuffle=True, random_state=33)"
   ]
  },
  {
   "cell_type": "markdown",
   "metadata": {},
   "source": [
    "Train, Optimize and Evaluate models\n",
    "======"
   ]
  },
  {
   "cell_type": "markdown",
   "metadata": {},
   "source": [
    "LogisticRegression\n",
    "--------"
   ]
  },
  {
   "cell_type": "code",
   "execution_count": 20,
   "metadata": {},
   "outputs": [],
   "source": [
    "from sklearn.linear_model import LogisticRegression\n",
    "#Optimize LogisticRegresion\n",
    "pipelineLR =  pipeline(LogisticRegression(penalty='l2',tol=0.0001,C=1.0,n_jobs=-1)) \n",
    "parametersLR = {'clf__penalty': ['l1','l2'], 'clf__tol': [0.0001,0.001,0.01,0.1], 'clf__C': range(1,15)}\n",
    "\n",
    "gs_LR = GridSearchCV(pipelineLR, parametersLR)"
   ]
  },
  {
   "cell_type": "code",
   "execution_count": 21,
   "metadata": {},
   "outputs": [
    {
     "name": "stderr",
     "output_type": "stream",
     "text": [
      "/opt/conda/lib/python3.6/site-packages/sklearn/model_selection/_validation.py:536: FitFailedWarning: Estimator fit failed. The score on this train-test partition for these parameters will be set to nan. Details: \n",
      "ValueError: Solver lbfgs supports only 'l2' or 'none' penalties, got l1 penalty.\n",
      "\n",
      "  FitFailedWarning)\n"
     ]
    }
   ],
   "source": [
    "gs_LR= gs_LR.fit(X,y) "
   ]
  },
  {
   "cell_type": "code",
   "execution_count": 22,
   "metadata": {},
   "outputs": [
    {
     "name": "stdout",
     "output_type": "stream",
     "text": [
      "Best Score with LogisticRegression: 0.880519480519\n",
      "clf__C: 13\n",
      "clf__penalty: 'l2'\n",
      "clf__tol: 0.0001\n"
     ]
    }
   ],
   "source": [
    "print(\"Best Score with LogisticRegression: %s\" % gs_LR.best_score_)\n",
    "for param_name in sorted(parametersLR.keys()):\n",
    "    print(\"%s: %r\" % (param_name, gs_LR.best_params_[param_name]))"
   ]
  },
  {
   "cell_type": "code",
   "execution_count": 27,
   "metadata": {},
   "outputs": [
    {
     "name": "stdout",
     "output_type": "stream",
     "text": [
      "Scores in every iteration [ 0.84415584  0.83766234  0.86363636  0.85714286  0.85064935]\n",
      "Accuracy: 0.85 (+/- 0.02)\n"
     ]
    }
   ],
   "source": [
    "#Evaluate with K-Fold\n",
    "# penalty_LR=gs_LR.best_params_['clf__penalty']\n",
    "# tol_LR = gs_LR.best_params_['clf__tol']\n",
    "# C_LR = gs_LR.best_params_['clf__C']\n",
    "#model_LR = pipeline(LogisticRegression(penalty=penalty_LR,tol=tol_LR,C=C_LR,n_jobs=-1))\n",
    "model_LR=pipeline(LogisticRegression(penalty=gs_LR.best_params_['clf__penalty'],tol=gs_LR.best_params_['clf__tol'],\n",
    "                                     C=gs_LR.best_params_['clf__C'],n_jobs=-1))\n",
    "scores = cross_val_score(model_LR, X,y, cv=cv)\n",
    "print(\"Scores in every iteration\", scores)\n",
    "print(\"Accuracy: %0.2f (+/- %0.2f)\" % (scores.mean(), scores.std() * 2))"
   ]
  },
  {
   "cell_type": "code",
   "execution_count": 31,
   "metadata": {},
   "outputs": [
    {
     "name": "stdout",
     "output_type": "stream",
     "text": [
      "Scores in every iteration [ 0.84415584  0.83766234  0.86363636  0.85714286  0.85064935]\n",
      "Accuracy: 0.85 (+/- 0.02)\n",
      "Scores in every iteration [ 0.86075949  0.82758621  0.84810127  0.87804878  0.74683544]\n",
      "Precision: 0.83 (+/- 0.09)\n",
      "Scores in every iteration [ 0.83950617  0.87804878  0.88157895  0.85714286  0.9516129 ]\n",
      "Recall: 0.88 (+/- 0.08)\n",
      "Scores in every iteration [ 0.85        0.85207101  0.86451613  0.86746988  0.83687943]\n",
      "F1: 0.85 (+/- 0.02)\n"
     ]
    }
   ],
   "source": [
    "from joblib import dump, load\n",
    "dump(model_LR, 'exp/models/model_LR.joblib')\n",
    "clf = load('exp/models/model_LR.joblib') \n",
    "scores = cross_val_score(clf, X, y, cv=cv)\n",
    "print(\"Scores in every iteration\", scores)\n",
    "print(\"Accuracy: %0.2f (+/- %0.2f)\" % (scores.mean(), scores.std() * 2))\n",
    "scores = cross_val_score(clf, X, y, cv=cv, scoring='precision')\n",
    "print(\"Scores in every iteration\", scores)\n",
    "print(\"Precision: %0.2f (+/- %0.2f)\" % (scores.mean(), scores.std() * 2))\n",
    "scores = cross_val_score(clf, X, y, cv=cv, scoring='recall')\n",
    "print(\"Scores in every iteration\", scores)\n",
    "print(\"Recall: %0.2f (+/- %0.2f)\" % (scores.mean(), scores.std() * 2))\n",
    "scores = cross_val_score(clf, X, y, cv=cv, scoring='f1')\n",
    "print(\"Scores in every iteration\", scores)\n",
    "print(\"F1: %0.2f (+/- %0.2f)\" % (scores.mean(), scores.std() * 2))"
   ]
  },
  {
   "cell_type": "code",
   "execution_count": 28,
   "metadata": {},
   "outputs": [
    {
     "name": "stderr",
     "output_type": "stream",
     "text": [
      "/opt/conda/lib/python3.6/site-packages/sklearn/model_selection/_validation.py:536: FitFailedWarning: Estimator fit failed. The score on this train-test partition for these parameters will be set to nan. Details: \n",
      "ValueError: This solver needs samples of at least 2 classes in the data, but the data contains only one class: 0\n",
      "\n",
      "  FitFailedWarning)\n"
     ]
    },
    {
     "data": {
      "text/plain": [
       "<module 'matplotlib.pyplot' from '/opt/conda/lib/python3.6/site-packages/matplotlib/pyplot.py'>"
      ]
     },
     "execution_count": 28,
     "metadata": {},
     "output_type": "execute_result"
    },
    {
     "data": {
      "image/png": "[encoded data removed]",
      "text/plain": [
       "<Figure size 432x288 with 1 Axes>"
      ]
     },
     "metadata": {},
     "output_type": "display_data"
    }
   ],
   "source": [
    "plot_learning_curve(model_LR, \"Learning curve with K-Fold\", X, y, cv=cv) "
   ]
  },
  {
   "cell_type": "code",
   "execution_count": 29,
   "metadata": {},
   "outputs": [
    {
     "name": "stdout",
     "output_type": "stream",
     "text": [
      "              precision    recall  f1-score   support\n",
      "\n",
      "           0       0.83      0.85      0.84        73\n",
      "           1       0.86      0.84      0.85        81\n",
      "\n",
      "    accuracy                           0.84       154\n",
      "   macro avg       0.84      0.84      0.84       154\n",
      "weighted avg       0.84      0.84      0.84       154\n",
      "\n",
      "              precision    recall  f1-score   support\n",
      "\n",
      "           0       0.85      0.79      0.82        72\n",
      "           1       0.83      0.88      0.85        82\n",
      "\n",
      "    accuracy                           0.84       154\n",
      "   macro avg       0.84      0.83      0.84       154\n",
      "weighted avg       0.84      0.84      0.84       154\n",
      "\n",
      "              precision    recall  f1-score   support\n",
      "\n",
      "           0       0.88      0.85      0.86        78\n",
      "           1       0.85      0.88      0.86        76\n",
      "\n",
      "    accuracy                           0.86       154\n",
      "   macro avg       0.86      0.86      0.86       154\n",
      "weighted avg       0.86      0.86      0.86       154\n",
      "\n",
      "              precision    recall  f1-score   support\n",
      "\n",
      "           0       0.83      0.86      0.85        70\n",
      "           1       0.88      0.86      0.87        84\n",
      "\n",
      "    accuracy                           0.86       154\n",
      "   macro avg       0.86      0.86      0.86       154\n",
      "weighted avg       0.86      0.86      0.86       154\n",
      "\n",
      "              precision    recall  f1-score   support\n",
      "\n",
      "           0       0.96      0.78      0.86        92\n",
      "           1       0.75      0.95      0.84        62\n",
      "\n",
      "    accuracy                           0.85       154\n",
      "   macro avg       0.85      0.87      0.85       154\n",
      "weighted avg       0.87      0.85      0.85       154\n",
      "\n",
      "[ 0.84415584  0.83766234  0.86363636  0.85714286  0.85064935]\n"
     ]
    }
   ],
   "source": [
    "# Nested CV with parameter optimization\n",
    "nested_score = cross_val_score(model_LR, X, y, cv=cv, \\\n",
    "               scoring=make_scorer(classification_report_with_accuracy_score))\n",
    "print (nested_score) "
   ]
  },
  {
   "cell_type": "code",
   "execution_count": 30,
   "metadata": {},
   "outputs": [
    {
     "data": {
      "text/plain": [
       "Pipeline(memory=None,\n",
       "         steps=[('features',\n",
       "                 FeatureUnion(n_jobs=None,\n",
       "                              transformer_list=[('lexical_stats',\n",
       "                                                 Pipeline(memory=None,\n",
       "                                                          steps=[('stats',\n",
       "                                                                  LexicalStats()),\n",
       "                                                                 ('vectors',\n",
       "                                                                  DictVectorizer(dtype=<class 'numpy.float64'>,\n",
       "                                                                                 separator='=',\n",
       "                                                                                 sort=True,\n",
       "                                                                                 sparse=True))],\n",
       "                                                          verbose=False)),\n",
       "                                                ('words',\n",
       "                                                 TfidfVectorizer(analyzer='word',\n",
       "                                                                 binary=False,\n",
       "                                                                 decode_error='strict',\n",
       "                                                                 dtype=<clas...\n",
       "                                                                                            total_samples=1000000.0,\n",
       "                                                                                            verbose=0))],\n",
       "                                                          verbose=False))],\n",
       "                              transformer_weights=None, verbose=False)),\n",
       "                ('clf',\n",
       "                 LogisticRegression(C=13, class_weight=None, dual=False,\n",
       "                                    fit_intercept=True, intercept_scaling=1,\n",
       "                                    l1_ratio=None, max_iter=100,\n",
       "                                    multi_class='auto', n_jobs=-1, penalty='l2',\n",
       "                                    random_state=None, solver='lbfgs',\n",
       "                                    tol=0.0001, verbose=0, warm_start=False))],\n",
       "         verbose=False)"
      ]
     },
     "execution_count": 30,
     "metadata": {},
     "output_type": "execute_result"
    }
   ],
   "source": [
    "#Train classifier\n",
    "model_LR.fit(X,y)"
   ]
  },
  {
   "cell_type": "code",
   "execution_count": null,
   "metadata": {},
   "outputs": [],
   "source": []
  }
 ],
 "metadata": {
  "kernelspec": {
   "display_name": "Python 3",
   "language": "python",
   "name": "python3"
  },
  "language_info": {
   "codemirror_mode": {
    "name": "ipython",
    "version": 3
   },
   "file_extension": ".py",
   "mimetype": "text/x-python",
   "name": "python",
   "nbconvert_exporter": "python",
   "pygments_lexer": "ipython3",
   "version": "3.6.5"
  }
 },
 "nbformat": 4,
 "nbformat_minor": 2
}
