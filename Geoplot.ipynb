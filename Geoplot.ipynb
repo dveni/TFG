{
 "cells": [
  {
   "cell_type": "code",
   "execution_count": 2,
   "metadata": {},
   "outputs": [
    {
     "ename": "ModuleNotFoundError",
     "evalue": "No module named 'geoplot'",
     "output_type": "error",
     "traceback": [
      "\u001b[0;31m---------------------------------------------------------------------------\u001b[0m",
      "\u001b[0;31mModuleNotFoundError\u001b[0m                       Traceback (most recent call last)",
      "\u001b[0;32m<ipython-input-2-4137a7bd3c33>\u001b[0m in \u001b[0;36m<module>\u001b[0;34m()\u001b[0m\n\u001b[1;32m      2\u001b[0m \u001b[0;34m\u001b[0m\u001b[0m\n\u001b[1;32m      3\u001b[0m \u001b[0;32mimport\u001b[0m \u001b[0mgeopandas\u001b[0m \u001b[0;32mas\u001b[0m \u001b[0mgpd\u001b[0m\u001b[0;34m\u001b[0m\u001b[0m\n\u001b[0;32m----> 4\u001b[0;31m \u001b[0;32mimport\u001b[0m \u001b[0mgeoplot\u001b[0m\u001b[0;34m\u001b[0m\u001b[0m\n\u001b[0m\u001b[1;32m      5\u001b[0m \u001b[0;32mimport\u001b[0m \u001b[0mpandas\u001b[0m \u001b[0;32mas\u001b[0m \u001b[0mpd\u001b[0m\u001b[0;34m\u001b[0m\u001b[0m\n\u001b[1;32m      6\u001b[0m \u001b[0;34m\u001b[0m\u001b[0m\n",
      "\u001b[0;31mModuleNotFoundError\u001b[0m: No module named 'geoplot'"
     ]
    }
   ],
   "source": [
    "#Plotting map\n",
    "\n",
    "import geopandas as gpd\n",
    "import geoplot\n",
    "import pandas as pd\n",
    "\n",
    "# targetFiles = 'HealthyFood'\n",
    "# targetFiles = 'UnhealthyFood'\n",
    "# targetFiles = 'GenericTweets'\n",
    "targetFiles = 'smallData'\n",
    "\n",
    "RAW_CSV_DIR = f'./data/CSVFiles/'\n",
    "PROCESSED_LOCATION_CSV_FILE = f'./{RAW_CSV_DIR}/{targetFiles}-LocationsDataframe.csv'"
   ]
  },
  {
   "cell_type": "code",
   "execution_count": 5,
   "metadata": {},
   "outputs": [
    {
     "data": {
      "text/plain": [
       "False"
      ]
     },
     "execution_count": 5,
     "metadata": {},
     "output_type": "execute_result"
    }
   ],
   "source": [
    "import sys\n",
    "'geopandas' in sys.modules"
   ]
  },
  {
   "cell_type": "code",
   "execution_count": null,
   "metadata": {},
   "outputs": [],
   "source": [
    "world = gpd.read_file(\n",
    "    gpd.datasets.get_path('naturalearth_lowres')\n",
    ")"
   ]
  },
  {
   "cell_type": "code",
   "execution_count": null,
   "metadata": {},
   "outputs": [],
   "source": [
    "with pd.option_context('display.max_rows', None, 'display.max_columns', None):  # more options can be specified also\n",
    "    print(world.name)"
   ]
  },
  {
   "cell_type": "code",
   "execution_count": null,
   "metadata": {},
   "outputs": [],
   "source": [
    "#TODO: Get full dataframe\n",
    "df = pd.read_csv(PROCESSED_LOCATION_CSV_FILE)\n",
    "df.head()"
   ]
  },
  {
   "cell_type": "code",
   "execution_count": null,
   "metadata": {
    "scrolled": true
   },
   "outputs": [],
   "source": [
    "df.Country.value_counts().head(35)"
   ]
  },
  {
   "cell_type": "code",
   "execution_count": null,
   "metadata": {},
   "outputs": [],
   "source": [
    "#Translate country names top 35 countries\n",
    "\n",
    "df.loc[df['Country'] == \"México\", 'Country'] = 'Mexico'\n",
    "df.loc[df['Country'] == \"España\", 'Country'] = 'Spain'\n",
    "df.loc[df['Country'] == \"United States\", 'Country'] = 'United States of America'\n",
    "df.loc[df['Country'] == \"Estados Unidos\", 'Country'] = 'United States of America'\n",
    "df.loc[df['Country'] == \"Panamá\", 'Country'] = 'Panama'\n",
    "df.loc[df['Country'] == \"Dominican Republic\", 'Country'] = 'Dominican Rep.'\n",
    "df.loc[df['Country'] == \"Italia\", 'Country'] = 'Italy'\n",
    "df.loc[df['Country'] == \"Alemania\", 'Country'] = 'Germany'\n",
    "df.loc[df['Country'] == \"Espanya\", 'Country'] = 'Spain'\n",
    "df.loc[df['Country'] == \"Republic of the Philippines\", 'Country'] = 'Philippines'\n",
    "df.loc[df['Country'] == \"Reino unido\", 'Country'] = 'United Kingdom'\n",
    "df.loc[df['Country'] == \"Suiza\", 'Country'] = 'Switzerland'\n",
    "df.loc[df['Country'] == \"Francia\", 'Country'] = 'France'\n",
    "df.loc[df['Country'] == \"Canadá\", 'Country'] = 'Canada'\n",
    "\n",
    "\n",
    "\n",
    "\n",
    "\n",
    "top_countries = df.Country.head(30)"
   ]
  },
  {
   "cell_type": "code",
   "execution_count": null,
   "metadata": {},
   "outputs": [],
   "source": [
    "df = df[df.Country.isin(top_countries)]\n",
    "df"
   ]
  },
  {
   "cell_type": "code",
   "execution_count": null,
   "metadata": {},
   "outputs": [],
   "source": [
    "df.Country.value_counts().head(35)"
   ]
  },
  {
   "cell_type": "code",
   "execution_count": null,
   "metadata": {},
   "outputs": [],
   "source": [
    "tweetsInCountry = []\n",
    "n = 0\n",
    "for i in world['name']:\n",
    "    for j in df['Country']:\n",
    "        if i == j:\n",
    "            n = n + 1\n",
    "    tweetsInCountry.append(n)\n",
    "    n = 0\n"
   ]
  },
  {
   "cell_type": "code",
   "execution_count": null,
   "metadata": {},
   "outputs": [],
   "source": [
    "tweetsInCountry"
   ]
  },
  {
   "cell_type": "code",
   "execution_count": null,
   "metadata": {},
   "outputs": [],
   "source": [
    "import matplotlib.pyplot as plt\n",
    "world['tweets'] = tweetsInCountry\n",
    "plt.show(world.plot(column='tweets', cmap='OrRd', figsize=(15, 8)))\n",
    "for i in range(len(world['tweets'])):\n",
    "    print(world['name'][i])\n",
    "    print(world['tweets'][i])"
   ]
  },
  {
   "cell_type": "code",
   "execution_count": null,
   "metadata": {},
   "outputs": [],
   "source": [
    "fig, ax = plt.subplots(1, 1)\n",
    "\n",
    "world.plot(column='tweets', ax=ax, legend=True);\n"
   ]
  },
  {
   "cell_type": "code",
   "execution_count": null,
   "metadata": {},
   "outputs": [],
   "source": [
    "from mpl_toolkits.axes_grid1 import make_axes_locatable\n",
    "\n",
    "fig, ax = plt.subplots(1, 1)\n",
    "\n",
    "divider = make_axes_locatable(ax)\n",
    "\n",
    "cax = divider.append_axes(\"right\", size=\"5%\", pad=0.1)\n",
    "\n",
    "world.plot(column='tweets', ax=ax, legend=True, cax=cax)"
   ]
  },
  {
   "cell_type": "code",
   "execution_count": null,
   "metadata": {},
   "outputs": [],
   "source": [
    "fig, ax = plt.subplots(1, 1)\n",
    "\n",
    "world.plot(column='tweets',\n",
    "            ax=ax,\n",
    "            legend=True,\n",
    "            legend_kwds={'label': \"Population by Country\",\n",
    "                         'orientation': \"horizontal\"})"
   ]
  },
  {
   "cell_type": "code",
   "execution_count": null,
   "metadata": {
    "scrolled": true
   },
   "outputs": [],
   "source": [
    "fig, ax = plt.subplots(1, 1)\n",
    "\n",
    "plt.show(world.plot(column='tweets',\n",
    "            ax=ax,\n",
    "            legend=True,\n",
    "            cmap='OrRd',\n",
    "            figsize=(15, 8),\n",
    "            legend_kwds={'label': \"Tweets per Country\",\n",
    "                         'orientation': \"horizontal\"}))\n",
    "\n",
    "#plt.savefig('test.png')\n"
   ]
  },
  {
   "cell_type": "code",
   "execution_count": null,
   "metadata": {},
   "outputs": [],
   "source": [
    "\n",
    "\n",
    "world.plot(column='tweets', \n",
    "                    cmap='OrRd', legend=True,figsize=(12, 12), legend_kwds={'label': \"Tweets per Country\",\n",
    "                         'orientation': \"horizontal\"})"
   ]
  },
  {
   "cell_type": "code",
   "execution_count": null,
   "metadata": {},
   "outputs": [],
   "source": [
    "df_spain = df = df[df.Country == 'Spain']\n",
    "df_spain = df_spain.reset_index()\n",
    "\n",
    "df_spain"
   ]
  },
  {
   "cell_type": "code",
   "execution_count": null,
   "metadata": {},
   "outputs": [],
   "source": [
    "# Cargar la capa temática\n",
    "natalidad = \"datos/natalidad.geojson\"\n",
    "map_data = gpd.read_file(natalidad)\n",
    "map_data.head()"
   ]
  },
  {
   "cell_type": "code",
   "execution_count": null,
   "metadata": {},
   "outputs": [],
   "source": [
    "df_spain.Coordinates[0]"
   ]
  },
  {
   "cell_type": "code",
   "execution_count": null,
   "metadata": {},
   "outputs": [],
   "source": [
    "from shapely.geometry import Point\n",
    "\n",
    "point_coordinates = []\n",
    "\n",
    "for index, row in df_spain.iterrows():\n",
    "    a = (float(i) for i in row['Coordinates'].replace('(', '').replace(')', '').replace(' ','').split(','))\n",
    "    point = Point(a)\n",
    "    point_coordinates.append(point)\n"
   ]
  },
  {
   "cell_type": "code",
   "execution_count": null,
   "metadata": {},
   "outputs": [],
   "source": [
    "map_data.geometry[0].contains(point)\n"
   ]
  },
  {
   "cell_type": "code",
   "execution_count": null,
   "metadata": {},
   "outputs": [],
   "source": [
    "tweetsInProvince = []\n",
    "n = 0\n",
    "for province in map_data['geometry']:\n",
    "    for point in point_coordinates:\n",
    "        if province.contains(point):\n",
    "            n = n + 1\n",
    "    tweetsInProvince.append(n)\n",
    "    n = 0"
   ]
  },
  {
   "cell_type": "code",
   "execution_count": null,
   "metadata": {},
   "outputs": [],
   "source": [
    "map_data['Tweets'] = tweetsInProvince\n",
    "map_data"
   ]
  },
  {
   "cell_type": "code",
   "execution_count": null,
   "metadata": {},
   "outputs": [],
   "source": [
    "population = []\n",
    "\n",
    "for index, row in map_data.iterrows():\n",
    "    \n",
    "    print('{}: '.format(row['NAME_2']))\n",
    "    val = int(input(\"Poblacion: \"))\n",
    "    population.append(val) \n",
    "\n",
    "map_data['Population']= population\n",
    "map_data"
   ]
  },
  {
   "cell_type": "code",
   "execution_count": null,
   "metadata": {},
   "outputs": [],
   "source": [
    "map_data.to_file(\"spain.geojson\", driver='GeoJSON')\n"
   ]
  },
  {
   "cell_type": "code",
   "execution_count": null,
   "metadata": {},
   "outputs": [],
   "source": [
    "x = gpd.read_file('spain.geojson')\n",
    "x"
   ]
  },
  {
   "cell_type": "code",
   "execution_count": null,
   "metadata": {},
   "outputs": [],
   "source": [
    "map_data['Population'] = x['Population']\n"
   ]
  },
  {
   "cell_type": "code",
   "execution_count": null,
   "metadata": {},
   "outputs": [],
   "source": [
    "tweetDensity = map_data.Tweets/map_data.Population\n",
    "map_data['TweetDensity'] = tweetDensity\n",
    "map_data"
   ]
  },
  {
   "cell_type": "code",
   "execution_count": null,
   "metadata": {},
   "outputs": [],
   "source": [
    "## Control del tamaño de la figura del mapa\n",
    "fig, ax = plt.subplots(1, 1, figsize=(10, 10))\n",
    " \n",
    "# Control del encuadre (área geográfica) del mapa\n",
    "ax.axis([-12, 5, 32, 48])\n",
    " \n",
    "# Control del título y los ejes\n",
    "ax.set_title('Densidad de tweets por Provincias en España', \n",
    "             pad = 20, \n",
    "             fontdict={'fontsize':20, 'color': '#4873ab'})\n",
    "ax.set_xlabel('Longitud')\n",
    "ax.set_ylabel('Latitud')\n",
    " \n",
    "# Añadir la leyenda separada del mapa\n",
    "from mpl_toolkits.axes_grid1 import make_axes_locatable\n",
    "divider = make_axes_locatable(ax)\n",
    "cax = divider.append_axes(\"right\", size=\"5%\", pad=0.2)\n",
    " \n",
    "# Generar y cargar el mapa\n",
    "map_data.plot(column='TweetDensity', cmap='plasma', ax=ax,\n",
    "              legend=True, cax=cax, zorder=5)\n",
    " \n",
    "# Cargar un mapa base con contornos de países\n",
    "oceanos = \"datos/ne_50m_ocean.shx\"\n",
    "map_oceanos = gpd.read_file(oceanos)\n",
    "map_oceanos.plot(ax=ax, color='#89c0e8', zorder=0)"
   ]
  },
  {
   "cell_type": "code",
   "execution_count": null,
   "metadata": {},
   "outputs": [],
   "source": [
    "## Control del tamaño de la figura del mapa\n",
    "fig, ax = plt.subplots(1, 1, figsize=(10, 10))\n",
    " \n",
    "# Control del encuadre (área geográfica) del mapa\n",
    "ax.axis([-12, 5, 32, 48])\n",
    " \n",
    "# Control del título y los ejes\n",
    "ax.set_title('Tweets por Provincias en España', \n",
    "             pad = 20, \n",
    "             fontdict={'fontsize':20, 'color': '#4873ab'})\n",
    "ax.set_xlabel('Longitud')\n",
    "ax.set_ylabel('Latitud')\n",
    " \n",
    "# Añadir la leyenda separada del mapa\n",
    "from mpl_toolkits.axes_grid1 import make_axes_locatable\n",
    "divider = make_axes_locatable(ax)\n",
    "cax = divider.append_axes(\"right\", size=\"5%\", pad=0.2)\n",
    " \n",
    "# Generar y cargar el mapa\n",
    "map_data.plot(column='Tweets', cmap='plasma', ax=ax,\n",
    "              legend=True, cax=cax, zorder=5)\n",
    " \n",
    "# Cargar un mapa base con contornos de países\n",
    "oceanos = \"datos/ne_50m_ocean.shx\"\n",
    "map_oceanos = gpd.read_file(oceanos)\n",
    "map_oceanos.plot(ax=ax, color='#89c0e8', zorder=0)"
   ]
  },
  {
   "cell_type": "code",
   "execution_count": null,
   "metadata": {},
   "outputs": [],
   "source": []
  }
 ],
 "metadata": {
  "kernelspec": {
   "display_name": "Python 3",
   "language": "python",
   "name": "python3"
  },
  "language_info": {
   "codemirror_mode": {
    "name": "ipython",
    "version": 3
   },
   "file_extension": ".py",
   "mimetype": "text/x-python",
   "name": "python",
   "nbconvert_exporter": "python",
   "pygments_lexer": "ipython3",
   "version": "3.6.5"
  }
 },
 "nbformat": 4,
 "nbformat_minor": 2
}
